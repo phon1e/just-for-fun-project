{
  "cells": [
    {
      "cell_type": "markdown",
      "metadata": {
        "id": "view-in-github",
        "colab_type": "text"
      },
      "source": [
        "<a href=\"https://colab.research.google.com/github/phon1e/just-for-fun-project/blob/master/nlp_wordEmbedding.ipynb\" target=\"_parent\"><img src=\"https://colab.research.google.com/assets/colab-badge.svg\" alt=\"Open In Colab\"/></a>"
      ]
    },
    {
      "cell_type": "markdown",
      "source": [
        "##First part"
      ],
      "metadata": {
        "id": "ey5UqxwWDBMs"
      }
    },
    {
      "cell_type": "code",
      "execution_count": 6,
      "metadata": {
        "id": "70n-wAD5vxWW"
      },
      "outputs": [],
      "source": [
        "#Word Embeddings Demo\n",
        "# Slower but always guaranteed to work\n",
        "# !wget -nc https://lazyprogrammer.me/course_files/nlp/GoogleNews-vectors-negative300.bin.gz\n",
        "\n",
        "# You are better off just downloading this from the source\n",
        "# https://drive.google.com/file/d/0B7XkCwpI5KDYNlNUTTlSS21pQmM/edit?usp=sharing\n",
        "# https://code.google.com/archive/p/word2vec/\n",
        "# !gdown https://drive.google.com/uc?id=0B7XkCwpI5KDYNlNUTTlSS21pQmM\n"
      ]
    },
    {
      "cell_type": "code",
      "execution_count": 7,
      "metadata": {
        "id": "M6irvu56wK63"
      },
      "outputs": [],
      "source": [
        "# import gdown\n",
        "\n",
        "# !gdown https://drive.google.com/uc?id=0B7XkCwpI5KDYNlNUTTlSS21pQmM"
      ]
    },
    {
      "cell_type": "code",
      "execution_count": 8,
      "metadata": {
        "id": "zGQCkNIdwSvf"
      },
      "outputs": [],
      "source": [
        "# !gunzip GoogleNews-vectors-negative300.bin.gz"
      ]
    },
    {
      "cell_type": "code",
      "execution_count": 9,
      "metadata": {
        "id": "d--KNO4NwXIM"
      },
      "outputs": [],
      "source": [
        "from gensim.models import KeyedVectors"
      ]
    },
    {
      "cell_type": "code",
      "execution_count": 10,
      "metadata": {
        "id": "H9vB_jeEwhIF"
      },
      "outputs": [],
      "source": [
        "# word_vectors = KeyedVectors.load_word2vec_format(\n",
        "#     'GoogleNews-vectors-negative300.bin',\n",
        "#     binary = True\n",
        "# )\n",
        "# word_vectors"
      ]
    },
    {
      "cell_type": "code",
      "execution_count": 11,
      "metadata": {
        "id": "hnu_r6b-wrnM"
      },
      "outputs": [],
      "source": [
        "# def find_analogie(w1,w2,w3):\n",
        "#   #w1 - w2 = ? - w3\n",
        "#   #eg.  king - man = ? - woman\n",
        "#   # ? = king - man + woman\n",
        "#   # ? = w1 + w3 - w2\n",
        "#   r = word_vectors.most_similar(positive=[w1,w3], negative = [w2])\n",
        "#   print(f\"{w1} - {w2} =  {r[0][0]} - {w3}\")\n",
        "#   print(r[0])"
      ]
    },
    {
      "cell_type": "code",
      "execution_count": 12,
      "metadata": {
        "id": "s60u0JknxgIE"
      },
      "outputs": [],
      "source": [
        "# find_analogie('king', 'man','woman')"
      ]
    },
    {
      "cell_type": "code",
      "execution_count": 13,
      "metadata": {
        "id": "VwsoAcI7x5Qn"
      },
      "outputs": [],
      "source": [
        "# find_analogie('france', 'paris', 'rome')"
      ]
    },
    {
      "cell_type": "code",
      "execution_count": 14,
      "metadata": {
        "id": "FBgD3-qpx8gn"
      },
      "outputs": [],
      "source": [
        "# find_analogie('december', 'november', 'june')"
      ]
    },
    {
      "cell_type": "code",
      "execution_count": 15,
      "metadata": {
        "id": "t8omIa_FyE7a"
      },
      "outputs": [],
      "source": [
        "# find_analogie('man','woman','she')"
      ]
    },
    {
      "cell_type": "code",
      "execution_count": 16,
      "metadata": {
        "id": "u4MwfBgozj3o"
      },
      "outputs": [],
      "source": [
        "# def nearest_neighbors(w):\n",
        "#   r = word_vectors.most_similar(positive=[w])\n",
        "#   print(f\"neightbors of : {w}\")\n",
        "#   for word, score in r:\n",
        "#     print(f\"\\t{word}\")"
      ]
    },
    {
      "cell_type": "code",
      "execution_count": 18,
      "metadata": {
        "id": "jt_S2kqtzmmt"
      },
      "outputs": [],
      "source": [
        "# nearest_neighbors(\"king\")"
      ]
    },
    {
      "cell_type": "code",
      "execution_count": 27,
      "metadata": {
        "id": "aSUeos02z1in"
      },
      "outputs": [],
      "source": [
        "# nearest_neighbors(\"france\")"
      ]
    },
    {
      "cell_type": "code",
      "execution_count": 28,
      "metadata": {
        "id": "aAl0ZBFdz7Qb"
      },
      "outputs": [],
      "source": [
        "# nearest_neighbors('woman')"
      ]
    },
    {
      "cell_type": "markdown",
      "source": [
        "##EX part"
      ],
      "metadata": {
        "id": "AWrHUKUsDGMk"
      }
    },
    {
      "cell_type": "code",
      "execution_count": 19,
      "metadata": {
        "id": "Q--KVumQ0AlG"
      },
      "outputs": [],
      "source": [
        "#ex download pretrained GloVe vectors from \n",
        "# https://nlp.stanford.edu/projects/glove/\n",
        "#goal : implement your own find_analogies() and nearest_neighbors()"
      ]
    },
    {
      "cell_type": "code",
      "execution_count": 20,
      "metadata": {
        "colab": {
          "base_uri": "https://localhost:8080/"
        },
        "id": "a2tCb3Ie0vc5",
        "outputId": "1974572c-03eb-48d1-e519-acfc22cfb8c2"
      },
      "outputs": [
        {
          "output_type": "stream",
          "name": "stdout",
          "text": [
            "--2023-04-24 06:56:49--  https://nlp.stanford.edu/data/glove.6B.zip\n",
            "Resolving nlp.stanford.edu (nlp.stanford.edu)... 171.64.67.140\n",
            "Connecting to nlp.stanford.edu (nlp.stanford.edu)|171.64.67.140|:443... connected.\n",
            "HTTP request sent, awaiting response... 301 Moved Permanently\n",
            "Location: https://downloads.cs.stanford.edu/nlp/data/glove.6B.zip [following]\n",
            "--2023-04-24 06:56:49--  https://downloads.cs.stanford.edu/nlp/data/glove.6B.zip\n",
            "Resolving downloads.cs.stanford.edu (downloads.cs.stanford.edu)... 171.64.64.22\n",
            "Connecting to downloads.cs.stanford.edu (downloads.cs.stanford.edu)|171.64.64.22|:443... connected.\n",
            "HTTP request sent, awaiting response... 200 OK\n",
            "Length: 862182613 (822M) [application/zip]\n",
            "Saving to: ‘glove.6B.zip’\n",
            "\n",
            "glove.6B.zip        100%[===================>] 822.24M  5.08MB/s    in 2m 39s  \n",
            "\n",
            "2023-04-24 06:59:29 (5.16 MB/s) - ‘glove.6B.zip’ saved [862182613/862182613]\n",
            "\n"
          ]
        }
      ],
      "source": [
        "!wget https://nlp.stanford.edu/data/glove.6B.zip"
      ]
    },
    {
      "cell_type": "code",
      "execution_count": 21,
      "metadata": {
        "colab": {
          "base_uri": "https://localhost:8080/"
        },
        "id": "HKHm0ry10xRo",
        "outputId": "17e9c378-5fa2-431c-8097-e58c68e671db"
      },
      "outputs": [
        {
          "output_type": "stream",
          "name": "stdout",
          "text": [
            "Archive:  /content/glove.6B.zip\n",
            "  inflating: glove.6B.50d.txt        \n",
            "  inflating: glove.6B.100d.txt       \n",
            "  inflating: glove.6B.200d.txt       \n",
            "  inflating: glove.6B.300d.txt       \n"
          ]
        }
      ],
      "source": [
        "!unzip '/content/glove.6B.zip'"
      ]
    },
    {
      "cell_type": "code",
      "source": [
        "%ls"
      ],
      "metadata": {
        "colab": {
          "base_uri": "https://localhost:8080/"
        },
        "id": "iShi4budADlh",
        "outputId": "f99243db-65a2-45b2-8de8-e1608ce8bec2"
      },
      "execution_count": 22,
      "outputs": [
        {
          "output_type": "stream",
          "name": "stdout",
          "text": [
            "glove.6B.100d.txt  glove.6B.300d.txt  glove.6B.zip\n",
            "glove.6B.200d.txt  glove.6B.50d.txt   \u001b[0m\u001b[01;34msample_data\u001b[0m/\n"
          ]
        }
      ]
    },
    {
      "cell_type": "code",
      "execution_count": 23,
      "metadata": {
        "id": "KyZY70MK1-Nj",
        "colab": {
          "base_uri": "https://localhost:8080/"
        },
        "outputId": "ecbb156e-a0f0-4c2e-9774-41c809a09e0a"
      },
      "outputs": [
        {
          "output_type": "stream",
          "name": "stderr",
          "text": [
            "<ipython-input-23-38e90bf5a7e1>:6: DeprecationWarning: Call to deprecated `glove2word2vec` (KeyedVectors.load_word2vec_format(.., binary=False, no_header=True) loads GLoVE text vectors.).\n",
            "  glove2word2vec(glove_input_file, word2vec_output_file)\n"
          ]
        },
        {
          "output_type": "execute_result",
          "data": {
            "text/plain": [
              "(400000, 50)"
            ]
          },
          "metadata": {},
          "execution_count": 23
        }
      ],
      "source": [
        "from gensim.scripts.glove2word2vec import glove2word2vec\n",
        "\n",
        "glove_input_file = 'glove.6B.50d.txt'\n",
        "word2vec_output_file = 'word2vec.txt'\n",
        "\n",
        "glove2word2vec(glove_input_file, word2vec_output_file)"
      ]
    },
    {
      "cell_type": "code",
      "source": [
        "model = KeyedVectors.load_word2vec_format(word2vec_output_file, binary = False)"
      ],
      "metadata": {
        "id": "qF95yKAEAmuB"
      },
      "execution_count": 24,
      "outputs": []
    },
    {
      "cell_type": "code",
      "execution_count": 25,
      "metadata": {
        "id": "ATkm0JNg2Fe-"
      },
      "outputs": [],
      "source": [
        "def nearest_neighborsV2(w):\n",
        "  r = model.most_similar(positive=[w])\n",
        "  print(f\"neightbors of : {w}\")\n",
        "  for word, score in r:\n",
        "    print(f\"\\t{word}\")"
      ]
    },
    {
      "cell_type": "code",
      "execution_count": 26,
      "metadata": {
        "id": "hqvEyDDO4_WS",
        "colab": {
          "base_uri": "https://localhost:8080/"
        },
        "outputId": "f98e0116-72da-4327-a27b-10287f590c04"
      },
      "outputs": [
        {
          "output_type": "stream",
          "name": "stdout",
          "text": [
            "neightbors of : king\n",
            "\tprince\n",
            "\tqueen\n",
            "\tii\n",
            "\temperor\n",
            "\tson\n",
            "\tuncle\n",
            "\tkingdom\n",
            "\tthrone\n",
            "\tbrother\n",
            "\truler\n"
          ]
        }
      ],
      "source": [
        "nearest_neighborsV2('king')"
      ]
    },
    {
      "cell_type": "code",
      "source": [
        "def find_analogieV2(w1,w2,w3):\n",
        "  #w1 - w2 = ? - w3\n",
        "  #eg.  king - man = ? - woman\n",
        "  # ? = king - man + woman\n",
        "  # ? = w1 + w3 - w2\n",
        "  r = model.most_similar(positive=[w1,w3], negative = [w2])\n",
        "  print(f\"{w1} - {w2} =  {r[0][0]} - {w3}\")\n",
        "  print(r[0])\n"
      ],
      "metadata": {
        "id": "QBl1C5NEEPOI"
      },
      "execution_count": 29,
      "outputs": []
    },
    {
      "cell_type": "code",
      "source": [
        "find_analogieV2('king', 'man','woman')"
      ],
      "metadata": {
        "colab": {
          "base_uri": "https://localhost:8080/"
        },
        "id": "K1EvrVxTEZ_W",
        "outputId": "ea87c4f4-f95d-46f3-8200-f4b60e6fdffc"
      },
      "execution_count": 31,
      "outputs": [
        {
          "output_type": "stream",
          "name": "stdout",
          "text": [
            "king - man =  queen - woman\n",
            "('queen', 0.8523604273796082)\n"
          ]
        }
      ]
    },
    {
      "cell_type": "code",
      "source": [],
      "metadata": {
        "id": "9LGbRQmxEdfd"
      },
      "execution_count": null,
      "outputs": []
    }
  ],
  "metadata": {
    "accelerator": "GPU",
    "colab": {
      "provenance": [],
      "authorship_tag": "ABX9TyPPjtEkIM5H7qPSe00aDpPT",
      "include_colab_link": true
    },
    "gpuClass": "standard",
    "kernelspec": {
      "display_name": "Python 3",
      "name": "python3"
    },
    "language_info": {
      "name": "python"
    }
  },
  "nbformat": 4,
  "nbformat_minor": 0
}